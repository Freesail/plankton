{
 "cells": [
  {
   "cell_type": "code",
   "execution_count": 1,
   "metadata": {
    "collapsed": true,
    "pycharm": {
     "is_executing": false
    }
   },
   "outputs": [],
   "source": [
    "import os\n",
    "import matplotlib.pyplot as plt\n",
    "import pandas as pd\n",
    "from skimage import io\n",
    "import numpy as np\n",
    "%matplotlib inline\n",
    "\n",
    "\n",
    "\n",
    "def safe_listdir(path):\n",
    "    f  = os.listdir(path)\n",
    "    try:\n",
    "        f.remove('.DS_Store')\n",
    "    except ValueError:\n",
    "        pass\n",
    "    return f"
   ]
  },
  {
   "cell_type": "code",
   "execution_count": 2,
   "outputs": [
    {
     "name": "stdout",
     "text": [
      "23 121 30336\n"
     ],
     "output_type": "stream"
    }
   ],
   "source": [
    "DATA_PATH = '../data/2_level_data'\n",
    "label_lv1 = safe_listdir(DATA_PATH)\n",
    "\n",
    "label_lv2 = []\n",
    "sample_cnt = []\n",
    "for l in label_lv1:\n",
    "    sub_l = safe_listdir(DATA_PATH + '/%s/' % l)\n",
    "    \n",
    "    for sl in sub_l:\n",
    "        imgs = safe_listdir(DATA_PATH + '/%s/%s' % (l, sl))\n",
    "        sample_cnt.append(len(imgs))\n",
    "    label_lv2.extend(sub_l)\n",
    "    # print('%s :\\n' % l)\n",
    "    # print(sub_l, '\\n\\n\\n')\n",
    "    \n",
    "print(len(label_lv1), len(label_lv2), sum(sample_cnt))"
   ],
   "metadata": {
    "collapsed": false,
    "pycharm": {
     "name": "#%%\n",
     "is_executing": false
    }
   }
  },
  {
   "cell_type": "code",
   "execution_count": 3,
   "outputs": [
    {
     "data": {
      "text/plain": "count     121.000000\nmean      250.710744\nstd       338.852216\nmin         9.000000\n25%        49.000000\n50%       114.000000\n75%       352.000000\nmax      1979.000000\ndtype: float64"
     },
     "metadata": {},
     "output_type": "execute_result",
     "execution_count": 3
    },
    {
     "data": {
      "text/plain": "<Figure size 432x288 with 1 Axes>",
      "image/png": "[encoded data removed]"
     },
     "metadata": {
      "needs_background": "light"
     },
     "output_type": "display_data"
    }
   ],
   "source": [
    "samples_hist = pd.Series(sample_cnt, index=label_lv2)\n",
    "samples_hist.hist(bins=100)\n",
    "samples_hist.describe()"
   ],
   "metadata": {
    "collapsed": false,
    "pycharm": {
     "name": "#%%\n",
     "is_executing": false
    }
   }
  },
  {
   "cell_type": "code",
   "execution_count": 62,
   "outputs": [
    {
     "data": {
      "text/plain": "hydromedusae_other                       12\nhydromedusae_typeE                       14\nephyra                                   14\nappendicularian_fritillaridae            16\nheteropod                                10\ninvertebrate_larvae_other_A              14\nhydromedusae_haliscera_small_sideview     9\nhydromedusae_liriope                     19\npteropod_theco_dev_seq                   13\nacantharia_protist_big_center            13\nfish_larvae_very_thin_body               16\nfish_larvae_deep_body                    10\ndtype: int64"
     },
     "metadata": {},
     "output_type": "execute_result",
     "execution_count": 62
    }
   ],
   "source": [
    "samples_hist[samples_hist<20]"
   ],
   "metadata": {
    "collapsed": false,
    "pycharm": {
     "name": "#%%\n",
     "is_executing": false
    }
   }
  },
  {
   "cell_type": "code",
   "execution_count": 78,
   "outputs": [],
   "source": [
    "DATA_PATH = '../data/raw_data/train'\n",
    "image_sizes = []\n",
    "for c in os.listdir(DATA_PATH):\n",
    "    for f in os.listdir(DATA_PATH+ '/%s'%c):\n",
    "        img = io.imread(DATA_PATH + '/%s/%s'%(c, f))\n",
    "        image_sizes.append(img.shape)"
   ],
   "metadata": {
    "collapsed": false,
    "pycharm": {
     "name": "#%%\n",
     "is_executing": false
    }
   }
  },
  {
   "cell_type": "code",
   "execution_count": 79,
   "outputs": [
    {
     "name": "stdout",
     "text": [
      "30336\n"
     ],
     "output_type": "stream"
    }
   ],
   "source": [
    "print(len(image_sizes))"
   ],
   "metadata": {
    "collapsed": false,
    "pycharm": {
     "name": "#%%\n",
     "is_executing": false
    }
   }
  },
  {
   "cell_type": "code",
   "execution_count": 82,
   "outputs": [
    {
     "data": {
      "text/plain": "<matplotlib.axes._subplots.AxesSubplot at 0x11d6bc3a0>"
     },
     "metadata": {},
     "output_type": "execute_result",
     "execution_count": 82
    },
    {
     "data": {
      "text/plain": "<Figure size 432x288 with 1 Axes>",
      "image/png": "[encoded data removed]"
     },
     "metadata": {
      "needs_background": "light"
     },
     "output_type": "display_data"
    }
   ],
   "source": [
    "image_sizes = np.array(image_sizes)\n",
    "w_h_ratio = pd.Series(image_sizes[:, 1]/image_sizes[:, 0])\n",
    "w_h_ratio.hist(bins=100)"
   ],
   "metadata": {
    "collapsed": false,
    "pycharm": {
     "name": "#%%\n",
     "is_executing": false
    }
   }
  },
  {
   "cell_type": "code",
   "execution_count": 85,
   "outputs": [
    {
     "data": {
      "text/plain": "<matplotlib.axes._subplots.AxesSubplot at 0x11f31bc70>"
     },
     "metadata": {},
     "output_type": "execute_result",
     "execution_count": 85
    },
    {
     "data": {
      "text/plain": "<Figure size 432x288 with 1 Axes>",
      "image/png": "[encoded data removed]"
     },
     "metadata": {
      "needs_background": "light"
     },
     "output_type": "display_data"
    }
   ],
   "source": [
    "w_h_max = pd.Series(image_sizes.max(axis=1))\n",
    "w_h_max.hist(bins=100)"
   ],
   "metadata": {
    "collapsed": false,
    "pycharm": {
     "name": "#%%\n",
     "is_executing": false
    }
   }
  },
  {
   "cell_type": "code",
   "execution_count": 86,
   "outputs": [],
   "source": [
    "import pickle\n",
    "with open('../output/image_sizes.pkl', 'wb') as f:\n",
    "    pickle.dump(image_sizes, f)\n"
   ],
   "metadata": {
    "collapsed": false,
    "pycharm": {
     "name": "#%%\n",
     "is_executing": false
    }
   }
  }
 ],
 "metadata": {
  "kernelspec": {
   "display_name": "Python 3",
   "language": "python",
   "name": "python3"
  },
  "language_info": {
   "codemirror_mode": {
    "name": "ipython",
    "version": 2
   },
   "file_extension": ".py",
   "mimetype": "text/x-python",
   "name": "python",
   "nbconvert_exporter": "python",
   "pygments_lexer": "ipython2",
   "version": "2.7.6"
  },
  "pycharm": {
   "stem_cell": {
    "cell_type": "raw",
    "source": [],
    "metadata": {
     "collapsed": false
    }
   }
  }
 },
 "nbformat": 4,
 "nbformat_minor": 0
}